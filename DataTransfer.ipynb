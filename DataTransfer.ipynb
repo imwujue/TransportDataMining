{
 "cells": [
  {
   "cell_type": "code",
   "execution_count": 1,
   "metadata": {
    "collapsed": true
   },
   "outputs": [],
   "source": [
    "import pandas as pd"
   ]
  },
  {
   "cell_type": "code",
   "execution_count": 2,
   "metadata": {
    "collapsed": true
   },
   "outputs": [],
   "source": [
    "train = pd.read_csv('C:/Users/WuJue/Desktop/nyc-taxi-trip/output/train_cleaned.csv')\n",
    "test = pd.read_csv('C:/Users/WuJue/Desktop/nyc-taxi-trip/output/test_cleaned.csv')"
   ]
  },
  {
   "cell_type": "code",
   "execution_count": 3,
   "metadata": {
    "collapsed": true
   },
   "outputs": [],
   "source": [
    "train['pickup_datetime'] = pd.to_datetime(train.pickup_datetime)\n",
    "test['pickup_datetime'] = pd.to_datetime(test.pickup_datetime)\n",
    "train.loc[:, 'pickup_date'] = train['pickup_datetime'].dt.date\n",
    "test.loc[:, 'pickup_date'] = test['pickup_datetime'].dt.date\n",
    "train['dropoff_datetime'] = pd.to_datetime(train.dropoff_datetime) "
   ]
  },
  {
   "cell_type": "code",
   "execution_count": 4,
   "metadata": {},
   "outputs": [
    {
     "name": "stdout",
     "output_type": "stream",
     "text": [
      "<class 'pandas.core.frame.DataFrame'>\n",
      "RangeIndex: 1429229 entries, 0 to 1429228\n",
      "Data columns (total 13 columns):\n",
      "Unnamed: 0            1429229 non-null int64\n",
      "id                    1429229 non-null object\n",
      "vendor_id             1429229 non-null int64\n",
      "pickup_datetime       1429229 non-null datetime64[ns]\n",
      "dropoff_datetime      1429229 non-null datetime64[ns]\n",
      "passenger_count       1429229 non-null int64\n",
      "pickup_longitude      1429229 non-null float64\n",
      "pickup_latitude       1429229 non-null float64\n",
      "dropoff_longitude     1429229 non-null float64\n",
      "dropoff_latitude      1429229 non-null float64\n",
      "store_and_fwd_flag    1429229 non-null object\n",
      "trip_duration         1429229 non-null int64\n",
      "pickup_date           1429229 non-null object\n",
      "dtypes: datetime64[ns](2), float64(4), int64(4), object(3)\n",
      "memory usage: 141.8+ MB\n"
     ]
    }
   ],
   "source": [
    "train.info()"
   ]
  },
  {
   "cell_type": "code",
   "execution_count": 5,
   "metadata": {},
   "outputs": [
    {
     "name": "stdout",
     "output_type": "stream",
     "text": [
      "<class 'pandas.core.frame.DataFrame'>\n",
      "RangeIndex: 625134 entries, 0 to 625133\n",
      "Data columns (total 11 columns):\n",
      "Unnamed: 0            625134 non-null int64\n",
      "id                    625134 non-null object\n",
      "vendor_id             625134 non-null int64\n",
      "pickup_datetime       625134 non-null datetime64[ns]\n",
      "passenger_count       625134 non-null int64\n",
      "pickup_longitude      625134 non-null float64\n",
      "pickup_latitude       625134 non-null float64\n",
      "dropoff_longitude     625134 non-null float64\n",
      "dropoff_latitude      625134 non-null float64\n",
      "store_and_fwd_flag    625134 non-null object\n",
      "pickup_date           625134 non-null object\n",
      "dtypes: datetime64[ns](1), float64(4), int64(3), object(3)\n",
      "memory usage: 52.5+ MB\n"
     ]
    }
   ],
   "source": [
    "test.info()"
   ]
  },
  {
   "cell_type": "code",
   "execution_count": 6,
   "metadata": {
    "collapsed": true
   },
   "outputs": [],
   "source": [
    "train['Month'] = train['pickup_datetime'].dt.month\n",
    "test['Month'] = test['pickup_datetime'].dt.month\n",
    "train['DayofMonth'] = train['pickup_datetime'].dt.day\n",
    "test['DayofMonth'] = test['pickup_datetime'].dt.day\n",
    "train['Hour'] = train['pickup_datetime'].dt.hour\n",
    "test['Hour'] = test['pickup_datetime'].dt.hour\n",
    "train['dayofweek'] = train['pickup_datetime'].dt.dayofweek\n",
    "test['dayofweek'] = test['pickup_datetime'].dt.dayofweek"
   ]
  },
  {
   "cell_type": "code",
   "execution_count": 7,
   "metadata": {},
   "outputs": [
    {
     "data": {
      "text/plain": [
       "(6, 6)"
      ]
     },
     "execution_count": 7,
     "metadata": {},
     "output_type": "execute_result"
    }
   ],
   "source": [
    "len(train.groupby('Month').size()),len(test.groupby('Month').size())"
   ]
  },
  {
   "cell_type": "code",
   "execution_count": 8,
   "metadata": {},
   "outputs": [
    {
     "data": {
      "text/plain": [
       "(Month\n",
       " 1    225143\n",
       " 2    233764\n",
       " 3    251145\n",
       " 4    246478\n",
       " 5    243295\n",
       " 6    229404\n",
       " dtype: int64, Month\n",
       " 1     97676\n",
       " 2    102314\n",
       " 3    109697\n",
       " 4    107432\n",
       " 5    107570\n",
       " 6    100445\n",
       " dtype: int64)"
      ]
     },
     "execution_count": 8,
     "metadata": {},
     "output_type": "execute_result"
    }
   ],
   "source": [
    "train.groupby('Month').size(),test.groupby('Month').size()"
   ]
  },
  {
   "cell_type": "code",
   "execution_count": 9,
   "metadata": {},
   "outputs": [
    {
     "data": {
      "text/plain": [
       "(31, 31)"
      ]
     },
     "execution_count": 9,
     "metadata": {},
     "output_type": "execute_result"
    }
   ],
   "source": [
    "len(train.groupby('DayofMonth').size()),len(test.groupby('DayofMonth').size())"
   ]
  },
  {
   "cell_type": "code",
   "execution_count": 10,
   "metadata": {},
   "outputs": [
    {
     "data": {
      "text/plain": [
       "(24, 24)"
      ]
     },
     "execution_count": 10,
     "metadata": {},
     "output_type": "execute_result"
    }
   ],
   "source": [
    "len(train.groupby('Hour').size()),len(test.groupby('Hour').size())"
   ]
  },
  {
   "cell_type": "code",
   "execution_count": 11,
   "metadata": {},
   "outputs": [
    {
     "data": {
      "text/plain": [
       "(7, 7)"
      ]
     },
     "execution_count": 11,
     "metadata": {},
     "output_type": "execute_result"
    }
   ],
   "source": [
    "len(train.groupby('dayofweek').size()),len(test.groupby('dayofweek').size())"
   ]
  },
  {
   "cell_type": "code",
   "execution_count": 12,
   "metadata": {},
   "outputs": [
    {
     "name": "stdout",
     "output_type": "stream",
     "text": [
      "<class 'pandas.core.frame.DataFrame'>\n",
      "RangeIndex: 1429229 entries, 0 to 1429228\n",
      "Data columns (total 17 columns):\n",
      "Unnamed: 0            1429229 non-null int64\n",
      "id                    1429229 non-null object\n",
      "vendor_id             1429229 non-null int64\n",
      "pickup_datetime       1429229 non-null datetime64[ns]\n",
      "dropoff_datetime      1429229 non-null datetime64[ns]\n",
      "passenger_count       1429229 non-null int64\n",
      "pickup_longitude      1429229 non-null float64\n",
      "pickup_latitude       1429229 non-null float64\n",
      "dropoff_longitude     1429229 non-null float64\n",
      "dropoff_latitude      1429229 non-null float64\n",
      "store_and_fwd_flag    1429229 non-null object\n",
      "trip_duration         1429229 non-null int64\n",
      "pickup_date           1429229 non-null object\n",
      "Month                 1429229 non-null int64\n",
      "DayofMonth            1429229 non-null int64\n",
      "Hour                  1429229 non-null int64\n",
      "dayofweek             1429229 non-null int64\n",
      "dtypes: datetime64[ns](2), float64(4), int64(8), object(3)\n",
      "memory usage: 185.4+ MB\n"
     ]
    }
   ],
   "source": [
    "train.info()"
   ]
  },
  {
   "cell_type": "code",
   "execution_count": 13,
   "metadata": {},
   "outputs": [
    {
     "name": "stdout",
     "output_type": "stream",
     "text": [
      "<class 'pandas.core.frame.DataFrame'>\n",
      "RangeIndex: 625134 entries, 0 to 625133\n",
      "Data columns (total 15 columns):\n",
      "Unnamed: 0            625134 non-null int64\n",
      "id                    625134 non-null object\n",
      "vendor_id             625134 non-null int64\n",
      "pickup_datetime       625134 non-null datetime64[ns]\n",
      "passenger_count       625134 non-null int64\n",
      "pickup_longitude      625134 non-null float64\n",
      "pickup_latitude       625134 non-null float64\n",
      "dropoff_longitude     625134 non-null float64\n",
      "dropoff_latitude      625134 non-null float64\n",
      "store_and_fwd_flag    625134 non-null object\n",
      "pickup_date           625134 non-null object\n",
      "Month                 625134 non-null int64\n",
      "DayofMonth            625134 non-null int64\n",
      "Hour                  625134 non-null int64\n",
      "dayofweek             625134 non-null int64\n",
      "dtypes: datetime64[ns](1), float64(4), int64(7), object(3)\n",
      "memory usage: 71.5+ MB\n"
     ]
    }
   ],
   "source": [
    "test.info()"
   ]
  },
  {
   "cell_type": "code",
   "execution_count": 14,
   "metadata": {
    "collapsed": true
   },
   "outputs": [],
   "source": [
    "train.to_csv('C:/Users/WuJue/Desktop/nyc-taxi-trip/output/train_trans.csv')\n",
    "test.to_csv('C:/Users/WuJue/Desktop/nyc-taxi-trip/output/test_trans.csv')"
   ]
  },
  {
   "cell_type": "code",
   "execution_count": null,
   "metadata": {
    "collapsed": true
   },
   "outputs": [],
   "source": []
  }
 ],
 "metadata": {
  "kernelspec": {
   "display_name": "Python 3",
   "language": "python",
   "name": "python3"
  },
  "language_info": {
   "codemirror_mode": {
    "name": "ipython",
    "version": 3
   },
   "file_extension": ".py",
   "mimetype": "text/x-python",
   "name": "python",
   "nbconvert_exporter": "python",
   "pygments_lexer": "ipython3",
   "version": "3.6.3"
  }
 },
 "nbformat": 4,
 "nbformat_minor": 2
}
