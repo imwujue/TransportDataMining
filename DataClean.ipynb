{
 "cells": [
  {
   "cell_type": "code",
   "execution_count": 1,
   "metadata": {
    "collapsed": true
   },
   "outputs": [],
   "source": [
    "import pandas as pd\n",
    "import numpy as np"
   ]
  },
  {
   "cell_type": "code",
   "execution_count": 2,
   "metadata": {
    "collapsed": true
   },
   "outputs": [],
   "source": [
    "train = pd.read_csv('C:/Users/WuJue/Desktop/nyc-taxi-trip/input/train.csv')\n",
    "test = pd.read_csv('C:/Users/WuJue/Desktop/nyc-taxi-trip/input/test.csv')"
   ]
  },
  {
   "cell_type": "code",
   "execution_count": 3,
   "metadata": {},
   "outputs": [
    {
     "data": {
      "text/html": [
       "<div>\n",
       "<style>\n",
       "    .dataframe thead tr:only-child th {\n",
       "        text-align: right;\n",
       "    }\n",
       "\n",
       "    .dataframe thead th {\n",
       "        text-align: left;\n",
       "    }\n",
       "\n",
       "    .dataframe tbody tr th {\n",
       "        vertical-align: top;\n",
       "    }\n",
       "</style>\n",
       "<table border=\"1\" class=\"dataframe\">\n",
       "  <thead>\n",
       "    <tr style=\"text-align: right;\">\n",
       "      <th></th>\n",
       "      <th>id</th>\n",
       "      <th>vendor_id</th>\n",
       "      <th>pickup_datetime</th>\n",
       "      <th>dropoff_datetime</th>\n",
       "      <th>passenger_count</th>\n",
       "      <th>pickup_longitude</th>\n",
       "      <th>pickup_latitude</th>\n",
       "      <th>dropoff_longitude</th>\n",
       "      <th>dropoff_latitude</th>\n",
       "      <th>store_and_fwd_flag</th>\n",
       "      <th>trip_duration</th>\n",
       "    </tr>\n",
       "  </thead>\n",
       "  <tbody>\n",
       "    <tr>\n",
       "      <th>0</th>\n",
       "      <td>id2875421</td>\n",
       "      <td>2</td>\n",
       "      <td>2016-03-14 17:24:55</td>\n",
       "      <td>2016-03-14 17:32:30</td>\n",
       "      <td>1</td>\n",
       "      <td>-73.982</td>\n",
       "      <td>40.768</td>\n",
       "      <td>-73.965</td>\n",
       "      <td>40.766</td>\n",
       "      <td>N</td>\n",
       "      <td>455</td>\n",
       "    </tr>\n",
       "    <tr>\n",
       "      <th>1</th>\n",
       "      <td>id2377394</td>\n",
       "      <td>1</td>\n",
       "      <td>2016-06-12 00:43:35</td>\n",
       "      <td>2016-06-12 00:54:38</td>\n",
       "      <td>1</td>\n",
       "      <td>-73.980</td>\n",
       "      <td>40.739</td>\n",
       "      <td>-73.999</td>\n",
       "      <td>40.731</td>\n",
       "      <td>N</td>\n",
       "      <td>663</td>\n",
       "    </tr>\n",
       "    <tr>\n",
       "      <th>2</th>\n",
       "      <td>id3858529</td>\n",
       "      <td>2</td>\n",
       "      <td>2016-01-19 11:35:24</td>\n",
       "      <td>2016-01-19 12:10:48</td>\n",
       "      <td>1</td>\n",
       "      <td>-73.979</td>\n",
       "      <td>40.764</td>\n",
       "      <td>-74.005</td>\n",
       "      <td>40.710</td>\n",
       "      <td>N</td>\n",
       "      <td>2124</td>\n",
       "    </tr>\n",
       "    <tr>\n",
       "      <th>3</th>\n",
       "      <td>id3504673</td>\n",
       "      <td>2</td>\n",
       "      <td>2016-04-06 19:32:31</td>\n",
       "      <td>2016-04-06 19:39:40</td>\n",
       "      <td>1</td>\n",
       "      <td>-74.010</td>\n",
       "      <td>40.720</td>\n",
       "      <td>-74.012</td>\n",
       "      <td>40.707</td>\n",
       "      <td>N</td>\n",
       "      <td>429</td>\n",
       "    </tr>\n",
       "    <tr>\n",
       "      <th>4</th>\n",
       "      <td>id2181028</td>\n",
       "      <td>2</td>\n",
       "      <td>2016-03-26 13:30:55</td>\n",
       "      <td>2016-03-26 13:38:10</td>\n",
       "      <td>1</td>\n",
       "      <td>-73.973</td>\n",
       "      <td>40.793</td>\n",
       "      <td>-73.973</td>\n",
       "      <td>40.783</td>\n",
       "      <td>N</td>\n",
       "      <td>435</td>\n",
       "    </tr>\n",
       "  </tbody>\n",
       "</table>\n",
       "</div>"
      ],
      "text/plain": [
       "          id  vendor_id      pickup_datetime     dropoff_datetime  \\\n",
       "0  id2875421          2  2016-03-14 17:24:55  2016-03-14 17:32:30   \n",
       "1  id2377394          1  2016-06-12 00:43:35  2016-06-12 00:54:38   \n",
       "2  id3858529          2  2016-01-19 11:35:24  2016-01-19 12:10:48   \n",
       "3  id3504673          2  2016-04-06 19:32:31  2016-04-06 19:39:40   \n",
       "4  id2181028          2  2016-03-26 13:30:55  2016-03-26 13:38:10   \n",
       "\n",
       "   passenger_count  pickup_longitude  pickup_latitude  dropoff_longitude  \\\n",
       "0                1           -73.982           40.768            -73.965   \n",
       "1                1           -73.980           40.739            -73.999   \n",
       "2                1           -73.979           40.764            -74.005   \n",
       "3                1           -74.010           40.720            -74.012   \n",
       "4                1           -73.973           40.793            -73.973   \n",
       "\n",
       "   dropoff_latitude store_and_fwd_flag  trip_duration  \n",
       "0            40.766                  N            455  \n",
       "1            40.731                  N            663  \n",
       "2            40.710                  N           2124  \n",
       "3            40.707                  N            429  \n",
       "4            40.783                  N            435  "
      ]
     },
     "execution_count": 3,
     "metadata": {},
     "output_type": "execute_result"
    }
   ],
   "source": [
    "pd.set_option('display.float_format', lambda x: '%.3f' % x)\n",
    "train.head()"
   ]
  },
  {
   "cell_type": "code",
   "execution_count": 4,
   "metadata": {},
   "outputs": [
    {
     "data": {
      "text/html": [
       "<div>\n",
       "<style>\n",
       "    .dataframe thead tr:only-child th {\n",
       "        text-align: right;\n",
       "    }\n",
       "\n",
       "    .dataframe thead th {\n",
       "        text-align: left;\n",
       "    }\n",
       "\n",
       "    .dataframe tbody tr th {\n",
       "        vertical-align: top;\n",
       "    }\n",
       "</style>\n",
       "<table border=\"1\" class=\"dataframe\">\n",
       "  <thead>\n",
       "    <tr style=\"text-align: right;\">\n",
       "      <th></th>\n",
       "      <th>vendor_id</th>\n",
       "      <th>passenger_count</th>\n",
       "      <th>pickup_longitude</th>\n",
       "      <th>pickup_latitude</th>\n",
       "      <th>dropoff_longitude</th>\n",
       "      <th>dropoff_latitude</th>\n",
       "      <th>trip_duration</th>\n",
       "    </tr>\n",
       "  </thead>\n",
       "  <tbody>\n",
       "    <tr>\n",
       "      <th>count</th>\n",
       "      <td>1458644.000</td>\n",
       "      <td>1458644.000</td>\n",
       "      <td>1458644.000</td>\n",
       "      <td>1458644.000</td>\n",
       "      <td>1458644.000</td>\n",
       "      <td>1458644.000</td>\n",
       "      <td>1458644.000</td>\n",
       "    </tr>\n",
       "    <tr>\n",
       "      <th>mean</th>\n",
       "      <td>1.535</td>\n",
       "      <td>1.665</td>\n",
       "      <td>-73.973</td>\n",
       "      <td>40.751</td>\n",
       "      <td>-73.973</td>\n",
       "      <td>40.752</td>\n",
       "      <td>959.492</td>\n",
       "    </tr>\n",
       "    <tr>\n",
       "      <th>std</th>\n",
       "      <td>0.499</td>\n",
       "      <td>1.314</td>\n",
       "      <td>0.071</td>\n",
       "      <td>0.033</td>\n",
       "      <td>0.071</td>\n",
       "      <td>0.036</td>\n",
       "      <td>5237.432</td>\n",
       "    </tr>\n",
       "    <tr>\n",
       "      <th>min</th>\n",
       "      <td>1.000</td>\n",
       "      <td>0.000</td>\n",
       "      <td>-121.933</td>\n",
       "      <td>34.360</td>\n",
       "      <td>-121.933</td>\n",
       "      <td>32.181</td>\n",
       "      <td>1.000</td>\n",
       "    </tr>\n",
       "    <tr>\n",
       "      <th>25%</th>\n",
       "      <td>1.000</td>\n",
       "      <td>1.000</td>\n",
       "      <td>-73.992</td>\n",
       "      <td>40.737</td>\n",
       "      <td>-73.991</td>\n",
       "      <td>40.736</td>\n",
       "      <td>397.000</td>\n",
       "    </tr>\n",
       "    <tr>\n",
       "      <th>50%</th>\n",
       "      <td>2.000</td>\n",
       "      <td>1.000</td>\n",
       "      <td>-73.982</td>\n",
       "      <td>40.754</td>\n",
       "      <td>-73.980</td>\n",
       "      <td>40.755</td>\n",
       "      <td>662.000</td>\n",
       "    </tr>\n",
       "    <tr>\n",
       "      <th>75%</th>\n",
       "      <td>2.000</td>\n",
       "      <td>2.000</td>\n",
       "      <td>-73.967</td>\n",
       "      <td>40.768</td>\n",
       "      <td>-73.963</td>\n",
       "      <td>40.770</td>\n",
       "      <td>1075.000</td>\n",
       "    </tr>\n",
       "    <tr>\n",
       "      <th>max</th>\n",
       "      <td>2.000</td>\n",
       "      <td>9.000</td>\n",
       "      <td>-61.336</td>\n",
       "      <td>51.881</td>\n",
       "      <td>-61.336</td>\n",
       "      <td>43.921</td>\n",
       "      <td>3526282.000</td>\n",
       "    </tr>\n",
       "  </tbody>\n",
       "</table>\n",
       "</div>"
      ],
      "text/plain": [
       "        vendor_id  passenger_count  pickup_longitude  pickup_latitude  \\\n",
       "count 1458644.000      1458644.000       1458644.000      1458644.000   \n",
       "mean        1.535            1.665           -73.973           40.751   \n",
       "std         0.499            1.314             0.071            0.033   \n",
       "min         1.000            0.000          -121.933           34.360   \n",
       "25%         1.000            1.000           -73.992           40.737   \n",
       "50%         2.000            1.000           -73.982           40.754   \n",
       "75%         2.000            2.000           -73.967           40.768   \n",
       "max         2.000            9.000           -61.336           51.881   \n",
       "\n",
       "       dropoff_longitude  dropoff_latitude  trip_duration  \n",
       "count        1458644.000       1458644.000    1458644.000  \n",
       "mean             -73.973            40.752        959.492  \n",
       "std                0.071             0.036       5237.432  \n",
       "min             -121.933            32.181          1.000  \n",
       "25%              -73.991            40.736        397.000  \n",
       "50%              -73.980            40.755        662.000  \n",
       "75%              -73.963            40.770       1075.000  \n",
       "max              -61.336            43.921    3526282.000  "
      ]
     },
     "execution_count": 4,
     "metadata": {},
     "output_type": "execute_result"
    }
   ],
   "source": [
    "pd.set_option('display.float_format', lambda x: '%.3f' % x)\n",
    "train.describe()"
   ]
  },
  {
   "cell_type": "code",
   "execution_count": 5,
   "metadata": {},
   "outputs": [
    {
     "name": "stdout",
     "output_type": "stream",
     "text": [
      "<class 'pandas.core.frame.DataFrame'>\n",
      "RangeIndex: 1458644 entries, 0 to 1458643\n",
      "Data columns (total 11 columns):\n",
      "id                    1458644 non-null object\n",
      "vendor_id             1458644 non-null int64\n",
      "pickup_datetime       1458644 non-null object\n",
      "dropoff_datetime      1458644 non-null object\n",
      "passenger_count       1458644 non-null int64\n",
      "pickup_longitude      1458644 non-null float64\n",
      "pickup_latitude       1458644 non-null float64\n",
      "dropoff_longitude     1458644 non-null float64\n",
      "dropoff_latitude      1458644 non-null float64\n",
      "store_and_fwd_flag    1458644 non-null object\n",
      "trip_duration         1458644 non-null int64\n",
      "dtypes: float64(4), int64(3), object(4)\n",
      "memory usage: 122.4+ MB\n"
     ]
    }
   ],
   "source": [
    "train.info()"
   ]
  },
  {
   "cell_type": "code",
   "execution_count": 6,
   "metadata": {},
   "outputs": [
    {
     "data": {
      "text/plain": [
       "passenger_count\n",
       "0         60\n",
       "1    1033540\n",
       "2     210318\n",
       "3      59896\n",
       "4      28404\n",
       "5      78088\n",
       "6      48333\n",
       "7          3\n",
       "8          1\n",
       "9          1\n",
       "dtype: int64"
      ]
     },
     "execution_count": 6,
     "metadata": {},
     "output_type": "execute_result"
    }
   ],
   "source": [
    "train.groupby('passenger_count').size()"
   ]
  },
  {
   "cell_type": "code",
   "execution_count": 7,
   "metadata": {},
   "outputs": [
    {
     "data": {
      "text/plain": [
       "store_and_fwd_flag\n",
       "N    1450599\n",
       "Y       8045\n",
       "dtype: int64"
      ]
     },
     "execution_count": 7,
     "metadata": {},
     "output_type": "execute_result"
    }
   ],
   "source": [
    "train.groupby('store_and_fwd_flag').size()"
   ]
  },
  {
   "cell_type": "code",
   "execution_count": 8,
   "metadata": {
    "collapsed": true
   },
   "outputs": [],
   "source": [
    "train = train[train['passenger_count'] > 0]\n",
    "train = train[train['passenger_count'] <= 6]"
   ]
  },
  {
   "cell_type": "code",
   "execution_count": 9,
   "metadata": {
    "collapsed": true
   },
   "outputs": [],
   "source": [
    "train = train[train['store_and_fwd_flag'] == 'N']"
   ]
  },
  {
   "cell_type": "code",
   "execution_count": 10,
   "metadata": {
    "collapsed": true
   },
   "outputs": [],
   "source": [
    "#行驶时长数据清洗\n",
    "m = np.mean(train['trip_duration'])\n",
    "s = np.std(train['trip_duration'])\n",
    "train = train[train['trip_duration'] <= m + 3*s]\n",
    "train = train[train['trip_duration'] >= m - 3*s]"
   ]
  },
  {
   "cell_type": "code",
   "execution_count": 11,
   "metadata": {
    "collapsed": true
   },
   "outputs": [],
   "source": [
    "#经纬度数据清洗\n",
    "#去掉pickup和dropoff中超出纽约市经纬度的数据\n",
    "train = train[train['pickup_longitude'] <= -73.75]\n",
    "train = train[train['pickup_longitude'] >= -74.03]\n",
    "train = train[train['pickup_latitude'] <= 40.85]\n",
    "train = train[train['pickup_latitude'] >= 40.63]\n",
    "train = train[train['dropoff_longitude'] <= -73.75]\n",
    "train = train[train['dropoff_longitude'] >= -74.03]\n",
    "train = train[train['dropoff_latitude'] <= 40.85]\n",
    "train = train[train['dropoff_latitude'] >= 40.63]"
   ]
  },
  {
   "cell_type": "code",
   "execution_count": 12,
   "metadata": {},
   "outputs": [
    {
     "data": {
      "text/html": [
       "<div>\n",
       "<style>\n",
       "    .dataframe thead tr:only-child th {\n",
       "        text-align: right;\n",
       "    }\n",
       "\n",
       "    .dataframe thead th {\n",
       "        text-align: left;\n",
       "    }\n",
       "\n",
       "    .dataframe tbody tr th {\n",
       "        vertical-align: top;\n",
       "    }\n",
       "</style>\n",
       "<table border=\"1\" class=\"dataframe\">\n",
       "  <thead>\n",
       "    <tr style=\"text-align: right;\">\n",
       "      <th></th>\n",
       "      <th>vendor_id</th>\n",
       "      <th>passenger_count</th>\n",
       "      <th>pickup_longitude</th>\n",
       "      <th>pickup_latitude</th>\n",
       "      <th>dropoff_longitude</th>\n",
       "      <th>dropoff_latitude</th>\n",
       "    </tr>\n",
       "  </thead>\n",
       "  <tbody>\n",
       "    <tr>\n",
       "      <th>count</th>\n",
       "      <td>625134.000</td>\n",
       "      <td>625134.000</td>\n",
       "      <td>625134.000</td>\n",
       "      <td>625134.000</td>\n",
       "      <td>625134.000</td>\n",
       "      <td>625134.000</td>\n",
       "    </tr>\n",
       "    <tr>\n",
       "      <th>mean</th>\n",
       "      <td>1.535</td>\n",
       "      <td>1.662</td>\n",
       "      <td>-73.974</td>\n",
       "      <td>40.751</td>\n",
       "      <td>-73.973</td>\n",
       "      <td>40.752</td>\n",
       "    </tr>\n",
       "    <tr>\n",
       "      <th>std</th>\n",
       "      <td>0.499</td>\n",
       "      <td>1.311</td>\n",
       "      <td>0.073</td>\n",
       "      <td>0.030</td>\n",
       "      <td>0.073</td>\n",
       "      <td>0.036</td>\n",
       "    </tr>\n",
       "    <tr>\n",
       "      <th>min</th>\n",
       "      <td>1.000</td>\n",
       "      <td>0.000</td>\n",
       "      <td>-121.933</td>\n",
       "      <td>37.390</td>\n",
       "      <td>-121.933</td>\n",
       "      <td>36.601</td>\n",
       "    </tr>\n",
       "    <tr>\n",
       "      <th>25%</th>\n",
       "      <td>1.000</td>\n",
       "      <td>1.000</td>\n",
       "      <td>-73.992</td>\n",
       "      <td>40.737</td>\n",
       "      <td>-73.991</td>\n",
       "      <td>40.736</td>\n",
       "    </tr>\n",
       "    <tr>\n",
       "      <th>50%</th>\n",
       "      <td>2.000</td>\n",
       "      <td>1.000</td>\n",
       "      <td>-73.982</td>\n",
       "      <td>40.754</td>\n",
       "      <td>-73.980</td>\n",
       "      <td>40.755</td>\n",
       "    </tr>\n",
       "    <tr>\n",
       "      <th>75%</th>\n",
       "      <td>2.000</td>\n",
       "      <td>2.000</td>\n",
       "      <td>-73.967</td>\n",
       "      <td>40.768</td>\n",
       "      <td>-73.963</td>\n",
       "      <td>40.770</td>\n",
       "    </tr>\n",
       "    <tr>\n",
       "      <th>max</th>\n",
       "      <td>2.000</td>\n",
       "      <td>9.000</td>\n",
       "      <td>-69.249</td>\n",
       "      <td>42.815</td>\n",
       "      <td>-67.497</td>\n",
       "      <td>48.858</td>\n",
       "    </tr>\n",
       "  </tbody>\n",
       "</table>\n",
       "</div>"
      ],
      "text/plain": [
       "       vendor_id  passenger_count  pickup_longitude  pickup_latitude  \\\n",
       "count 625134.000       625134.000        625134.000       625134.000   \n",
       "mean       1.535            1.662           -73.974           40.751   \n",
       "std        0.499            1.311             0.073            0.030   \n",
       "min        1.000            0.000          -121.933           37.390   \n",
       "25%        1.000            1.000           -73.992           40.737   \n",
       "50%        2.000            1.000           -73.982           40.754   \n",
       "75%        2.000            2.000           -73.967           40.768   \n",
       "max        2.000            9.000           -69.249           42.815   \n",
       "\n",
       "       dropoff_longitude  dropoff_latitude  \n",
       "count         625134.000        625134.000  \n",
       "mean             -73.973            40.752  \n",
       "std                0.073             0.036  \n",
       "min             -121.933            36.601  \n",
       "25%              -73.991            40.736  \n",
       "50%              -73.980            40.755  \n",
       "75%              -73.963            40.770  \n",
       "max              -67.497            48.858  "
      ]
     },
     "execution_count": 12,
     "metadata": {},
     "output_type": "execute_result"
    }
   ],
   "source": [
    "pd.set_option('display.float_format', lambda x: '%.3f' % x)\n",
    "test.describe()"
   ]
  },
  {
   "cell_type": "code",
   "execution_count": 13,
   "metadata": {},
   "outputs": [
    {
     "data": {
      "text/plain": [
       "passenger_count\n",
       "0        23\n",
       "1    443447\n",
       "2     90027\n",
       "3     25686\n",
       "4     12017\n",
       "5     33411\n",
       "6     20521\n",
       "9         2\n",
       "dtype: int64"
      ]
     },
     "execution_count": 13,
     "metadata": {},
     "output_type": "execute_result"
    }
   ],
   "source": [
    "test.groupby('passenger_count').size()"
   ]
  },
  {
   "cell_type": "code",
   "execution_count": 14,
   "metadata": {},
   "outputs": [
    {
     "data": {
      "text/plain": [
       "store_and_fwd_flag\n",
       "N    621704\n",
       "Y      3430\n",
       "dtype: int64"
      ]
     },
     "execution_count": 14,
     "metadata": {},
     "output_type": "execute_result"
    }
   ],
   "source": [
    "test.groupby('store_and_fwd_flag').size()"
   ]
  },
  {
   "cell_type": "code",
   "execution_count": 15,
   "metadata": {},
   "outputs": [
    {
     "name": "stdout",
     "output_type": "stream",
     "text": [
      "<class 'pandas.core.frame.DataFrame'>\n",
      "RangeIndex: 625134 entries, 0 to 625133\n",
      "Data columns (total 9 columns):\n",
      "id                    625134 non-null object\n",
      "vendor_id             625134 non-null int64\n",
      "pickup_datetime       625134 non-null object\n",
      "passenger_count       625134 non-null int64\n",
      "pickup_longitude      625134 non-null float64\n",
      "pickup_latitude       625134 non-null float64\n",
      "dropoff_longitude     625134 non-null float64\n",
      "dropoff_latitude      625134 non-null float64\n",
      "store_and_fwd_flag    625134 non-null object\n",
      "dtypes: float64(4), int64(2), object(3)\n",
      "memory usage: 42.9+ MB\n"
     ]
    }
   ],
   "source": [
    "test.info()"
   ]
  },
  {
   "cell_type": "code",
   "execution_count": 16,
   "metadata": {
    "collapsed": true
   },
   "outputs": [],
   "source": [
    "test = test[test['passenger_count'] > 0]\n",
    "test = test[test['passenger_count'] <= 6]"
   ]
  },
  {
   "cell_type": "code",
   "execution_count": 17,
   "metadata": {
    "collapsed": true
   },
   "outputs": [],
   "source": [
    "test = test[test['store_and_fwd_flag'] == 'N']"
   ]
  },
  {
   "cell_type": "code",
   "execution_count": 18,
   "metadata": {
    "collapsed": true
   },
   "outputs": [],
   "source": [
    "test = test[test['pickup_longitude'] <= -73.75]\n",
    "test = test[test['pickup_longitude'] >= -74.03]\n",
    "test = test[test['pickup_latitude'] <= 40.85]\n",
    "test = test[test['pickup_latitude'] >= 40.63]\n",
    "test = test[test['dropoff_longitude'] <= -73.75]\n",
    "test = test[test['dropoff_longitude'] >= -74.03]\n",
    "test = test[test['dropoff_latitude'] <= 40.85]\n",
    "test = test[test['dropoff_latitude'] >= 40.63]"
   ]
  },
  {
   "cell_type": "code",
   "execution_count": 19,
   "metadata": {},
   "outputs": [
    {
     "name": "stdout",
     "output_type": "stream",
     "text": [
      "<class 'pandas.core.frame.DataFrame'>\n",
      "Int64Index: 1429229 entries, 0 to 1458643\n",
      "Data columns (total 11 columns):\n",
      "id                    1429229 non-null object\n",
      "vendor_id             1429229 non-null int64\n",
      "pickup_datetime       1429229 non-null object\n",
      "dropoff_datetime      1429229 non-null object\n",
      "passenger_count       1429229 non-null int64\n",
      "pickup_longitude      1429229 non-null float64\n",
      "pickup_latitude       1429229 non-null float64\n",
      "dropoff_longitude     1429229 non-null float64\n",
      "dropoff_latitude      1429229 non-null float64\n",
      "store_and_fwd_flag    1429229 non-null object\n",
      "trip_duration         1429229 non-null int64\n",
      "dtypes: float64(4), int64(3), object(4)\n",
      "memory usage: 130.8+ MB\n"
     ]
    }
   ],
   "source": [
    "train.info()"
   ]
  },
  {
   "cell_type": "code",
   "execution_count": 20,
   "metadata": {},
   "outputs": [
    {
     "name": "stdout",
     "output_type": "stream",
     "text": [
      "<class 'pandas.core.frame.DataFrame'>\n",
      "Int64Index: 613563 entries, 0 to 625133\n",
      "Data columns (total 9 columns):\n",
      "id                    613563 non-null object\n",
      "vendor_id             613563 non-null int64\n",
      "pickup_datetime       613563 non-null object\n",
      "passenger_count       613563 non-null int64\n",
      "pickup_longitude      613563 non-null float64\n",
      "pickup_latitude       613563 non-null float64\n",
      "dropoff_longitude     613563 non-null float64\n",
      "dropoff_latitude      613563 non-null float64\n",
      "store_and_fwd_flag    613563 non-null object\n",
      "dtypes: float64(4), int64(2), object(3)\n",
      "memory usage: 46.8+ MB\n"
     ]
    }
   ],
   "source": [
    "test.info()"
   ]
  },
  {
   "cell_type": "code",
   "execution_count": 21,
   "metadata": {
    "collapsed": true
   },
   "outputs": [],
   "source": [
    "train.to_csv('C:/Users/WuJue/Desktop/nyc-taxi-trip/output/train_cleaned.csv')\n",
    "test.to_csv('C:/Users/WuJue/Desktop/nyc-taxi-trip/output/test_cleaned.csv')"
   ]
  },
  {
   "cell_type": "code",
   "execution_count": null,
   "metadata": {
    "collapsed": true
   },
   "outputs": [],
   "source": []
  }
 ],
 "metadata": {
  "kernelspec": {
   "display_name": "Python 3",
   "language": "python",
   "name": "python3"
  },
  "language_info": {
   "codemirror_mode": {
    "name": "ipython",
    "version": 3
   },
   "file_extension": ".py",
   "mimetype": "text/x-python",
   "name": "python",
   "nbconvert_exporter": "python",
   "pygments_lexer": "ipython3",
   "version": "3.6.3"
  }
 },
 "nbformat": 4,
 "nbformat_minor": 2
}
