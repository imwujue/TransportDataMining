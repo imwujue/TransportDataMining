{
 "cells": [
  {
   "cell_type": "code",
   "execution_count": 25,
   "metadata": {
    "collapsed": true
   },
   "outputs": [],
   "source": [
    "import pandas as pd"
   ]
  },
  {
   "cell_type": "code",
   "execution_count": 26,
   "metadata": {
    "collapsed": true
   },
   "outputs": [],
   "source": [
    "train = pd.read_csv('C:/Users/WuJue/Desktop/nyc-taxi-trip/output/train_speed.csv')\n",
    "test = pd.read_csv('C:/Users/WuJue/Desktop/nyc-taxi-trip/output/test_speed.csv')"
   ]
  },
  {
   "cell_type": "code",
   "execution_count": 27,
   "metadata": {
    "collapsed": true
   },
   "outputs": [],
   "source": [
    "fr1 = pd.read_csv('C:/Users/WuJue/Desktop/nyc-taxi-trip/input/fastest_routes_train_part_1.csv')\n",
    "fr2 = pd.read_csv('C:/Users/WuJue/Desktop/nyc-taxi-trip/input/fastest_routes_train_part_2.csv')"
   ]
  },
  {
   "cell_type": "code",
   "execution_count": 28,
   "metadata": {},
   "outputs": [
    {
     "name": "stdout",
     "output_type": "stream",
     "text": [
      "<class 'pandas.core.frame.DataFrame'>\n",
      "RangeIndex: 1429229 entries, 0 to 1429228\n",
      "Data columns (total 32 columns):\n",
      "Unnamed: 0                  1429229 non-null int64\n",
      "Unnamed: 0.1                1429229 non-null int64\n",
      "Unnamed: 0.1.1              1429229 non-null int64\n",
      "Unnamed: 0.1.1              1429229 non-null int64\n",
      "Unnamed: 0.1.1.1            1429229 non-null int64\n",
      "Unnamed: 0.1.1.1.1          1429229 non-null int64\n",
      "id                          1429229 non-null object\n",
      "vendor_id                   1429229 non-null int64\n",
      "pickup_datetime             1429229 non-null object\n",
      "dropoff_datetime            1429229 non-null object\n",
      "passenger_count             1429229 non-null int64\n",
      "pickup_longitude            1429229 non-null float64\n",
      "pickup_latitude             1429229 non-null float64\n",
      "dropoff_longitude           1429229 non-null float64\n",
      "dropoff_latitude            1429229 non-null float64\n",
      "store_and_fwd_flag          1429229 non-null object\n",
      "trip_duration               1429229 non-null int64\n",
      "pickup_date                 1429229 non-null object\n",
      "Month                       1429229 non-null int64\n",
      "DayofMonth                  1429229 non-null int64\n",
      "Hour                        1429229 non-null int64\n",
      "dayofweek                   1429229 non-null int64\n",
      "log_trip_duration           1429229 non-null float64\n",
      "pickup_cluster              1429229 non-null int64\n",
      "dropoff_cluster             1429229 non-null int64\n",
      "distance_haversine          1429229 non-null float64\n",
      "distance_dummy_manhattan    1429229 non-null float64\n",
      "direction                   1429229 non-null float64\n",
      "avg_speed_h                 1429229 non-null float64\n",
      "avg_speed_m                 1429229 non-null float64\n",
      "pickup_lat_bin              1429229 non-null float64\n",
      "pickup_long_bin             1429229 non-null float64\n",
      "dtypes: float64(12), int64(15), object(5)\n",
      "memory usage: 348.9+ MB\n"
     ]
    }
   ],
   "source": [
    "train.info()"
   ]
  },
  {
   "cell_type": "code",
   "execution_count": 29,
   "metadata": {},
   "outputs": [
    {
     "name": "stdout",
     "output_type": "stream",
     "text": [
      "<class 'pandas.core.frame.DataFrame'>\n",
      "RangeIndex: 700000 entries, 0 to 699999\n",
      "Data columns (total 12 columns):\n",
      "id                      700000 non-null object\n",
      "starting_street         700000 non-null object\n",
      "end_street              700000 non-null object\n",
      "total_distance          700000 non-null float64\n",
      "total_travel_time       700000 non-null float64\n",
      "number_of_steps         700000 non-null int64\n",
      "street_for_each_step    700000 non-null object\n",
      "distance_per_step       700000 non-null object\n",
      "travel_time_per_step    700000 non-null object\n",
      "step_maneuvers          700000 non-null object\n",
      "step_direction          700000 non-null object\n",
      "step_location_list      700000 non-null object\n",
      "dtypes: float64(2), int64(1), object(9)\n",
      "memory usage: 64.1+ MB\n"
     ]
    }
   ],
   "source": [
    "fr1.info()"
   ]
  },
  {
   "cell_type": "code",
   "execution_count": 18,
   "metadata": {},
   "outputs": [
    {
     "name": "stdout",
     "output_type": "stream",
     "text": [
      "<class 'pandas.core.frame.DataFrame'>\n",
      "RangeIndex: 758643 entries, 0 to 758642\n",
      "Data columns (total 12 columns):\n",
      "id                      758643 non-null object\n",
      "starting_street         758643 non-null object\n",
      "end_street              758643 non-null object\n",
      "total_distance          758643 non-null float64\n",
      "total_travel_time       758643 non-null float64\n",
      "number_of_steps         758643 non-null int64\n",
      "street_for_each_step    758643 non-null object\n",
      "distance_per_step       758643 non-null object\n",
      "travel_time_per_step    758643 non-null object\n",
      "step_maneuvers          758643 non-null object\n",
      "step_direction          758643 non-null object\n",
      "step_location_list      758643 non-null object\n",
      "dtypes: float64(2), int64(1), object(9)\n",
      "memory usage: 69.5+ MB\n"
     ]
    }
   ],
   "source": [
    "fr2.info()"
   ]
  },
  {
   "cell_type": "code",
   "execution_count": 30,
   "metadata": {
    "collapsed": true
   },
   "outputs": [],
   "source": [
    "fr1 = pd.read_csv('C:/Users/WuJue/Desktop/nyc-taxi-trip/input/fastest_routes_train_part_1.csv', usecols=['id', 'total_distance', 'total_travel_time',  'number_of_steps'])\n",
    "fr2 = pd.read_csv('C:/Users/WuJue/Desktop/nyc-taxi-trip/input/fastest_routes_train_part_2.csv', usecols=['id', 'total_distance', 'total_travel_time', 'number_of_steps'])\n",
    "test_street_info = pd.read_csv('C:/Users/WuJue/Desktop/nyc-taxi-trip/input/fastest_routes_test.csv',\n",
    "                               usecols=['id', 'total_distance', 'total_travel_time', 'number_of_steps'])\n",
    "train_street_info = pd.concat((fr1, fr2))\n",
    "train = train.merge(train_street_info, how='left', on='id')\n",
    "test = test.merge(test_street_info, how='left', on='id')"
   ]
  },
  {
   "cell_type": "code",
   "execution_count": 31,
   "metadata": {},
   "outputs": [
    {
     "name": "stdout",
     "output_type": "stream",
     "text": [
      "<class 'pandas.core.frame.DataFrame'>\n",
      "Int64Index: 1429229 entries, 0 to 1429228\n",
      "Data columns (total 35 columns):\n",
      "Unnamed: 0                  1429229 non-null int64\n",
      "Unnamed: 0.1                1429229 non-null int64\n",
      "Unnamed: 0.1.1              1429229 non-null int64\n",
      "Unnamed: 0.1.1              1429229 non-null int64\n",
      "Unnamed: 0.1.1.1            1429229 non-null int64\n",
      "Unnamed: 0.1.1.1.1          1429229 non-null int64\n",
      "id                          1429229 non-null object\n",
      "vendor_id                   1429229 non-null int64\n",
      "pickup_datetime             1429229 non-null object\n",
      "dropoff_datetime            1429229 non-null object\n",
      "passenger_count             1429229 non-null int64\n",
      "pickup_longitude            1429229 non-null float64\n",
      "pickup_latitude             1429229 non-null float64\n",
      "dropoff_longitude           1429229 non-null float64\n",
      "dropoff_latitude            1429229 non-null float64\n",
      "store_and_fwd_flag          1429229 non-null object\n",
      "trip_duration               1429229 non-null int64\n",
      "pickup_date                 1429229 non-null object\n",
      "Month                       1429229 non-null int64\n",
      "DayofMonth                  1429229 non-null int64\n",
      "Hour                        1429229 non-null int64\n",
      "dayofweek                   1429229 non-null int64\n",
      "log_trip_duration           1429229 non-null float64\n",
      "pickup_cluster              1429229 non-null int64\n",
      "dropoff_cluster             1429229 non-null int64\n",
      "distance_haversine          1429229 non-null float64\n",
      "distance_dummy_manhattan    1429229 non-null float64\n",
      "direction                   1429229 non-null float64\n",
      "avg_speed_h                 1429229 non-null float64\n",
      "avg_speed_m                 1429229 non-null float64\n",
      "pickup_lat_bin              1429229 non-null float64\n",
      "pickup_long_bin             1429229 non-null float64\n",
      "total_distance              1429228 non-null float64\n",
      "total_travel_time           1429228 non-null float64\n",
      "number_of_steps             1429228 non-null float64\n",
      "dtypes: float64(15), int64(15), object(5)\n",
      "memory usage: 392.5+ MB\n"
     ]
    }
   ],
   "source": [
    "train.info()"
   ]
  },
  {
   "cell_type": "code",
   "execution_count": 32,
   "metadata": {},
   "outputs": [
    {
     "name": "stdout",
     "output_type": "stream",
     "text": [
      "<class 'pandas.core.frame.DataFrame'>\n",
      "Int64Index: 613563 entries, 0 to 613562\n",
      "Data columns (total 28 columns):\n",
      "Unnamed: 0                  613563 non-null int64\n",
      "Unnamed: 0.1                613563 non-null int64\n",
      "Unnamed: 0.1.1              613563 non-null int64\n",
      "Unnamed: 0.1.1              613563 non-null int64\n",
      "Unnamed: 0.1.1.1            613563 non-null int64\n",
      "Unnamed: 0.1.1.1.1          613563 non-null int64\n",
      "id                          613563 non-null object\n",
      "vendor_id                   613563 non-null int64\n",
      "pickup_datetime             613563 non-null object\n",
      "passenger_count             613563 non-null int64\n",
      "pickup_longitude            613563 non-null float64\n",
      "pickup_latitude             613563 non-null float64\n",
      "dropoff_longitude           613563 non-null float64\n",
      "dropoff_latitude            613563 non-null float64\n",
      "store_and_fwd_flag          613563 non-null object\n",
      "pickup_date                 613563 non-null object\n",
      "Month                       613563 non-null int64\n",
      "DayofMonth                  613563 non-null int64\n",
      "Hour                        613563 non-null int64\n",
      "dayofweek                   613563 non-null int64\n",
      "pickup_cluster              613563 non-null int64\n",
      "dropoff_cluster             613563 non-null int64\n",
      "distance_haversine          613563 non-null float64\n",
      "distance_dummy_manhattan    613563 non-null float64\n",
      "direction                   613563 non-null float64\n",
      "total_distance              613563 non-null float64\n",
      "total_travel_time           613563 non-null float64\n",
      "number_of_steps             613563 non-null int64\n",
      "dtypes: float64(9), int64(15), object(4)\n",
      "memory usage: 135.8+ MB\n"
     ]
    }
   ],
   "source": [
    "test.info()"
   ]
  },
  {
   "cell_type": "code",
   "execution_count": 33,
   "metadata": {
    "collapsed": true
   },
   "outputs": [],
   "source": [
    "train = train.drop(['Unnamed: 0 ','Unnamed: 0.1','Unnamed: 0.1.1','Unnamed: 0.1.1','Unnamed: 0.1.1.1','Unnamed: 0.1.1.1.1'],axis = 1)\n",
    "test = test.drop(['Unnamed: 0 ','Unnamed: 0.1','Unnamed: 0.1.1','Unnamed: 0.1.1','Unnamed: 0.1.1.1','Unnamed: 0.1.1.1.1'],axis = 1)"
   ]
  },
  {
   "cell_type": "code",
   "execution_count": 34,
   "metadata": {},
   "outputs": [
    {
     "name": "stdout",
     "output_type": "stream",
     "text": [
      "<class 'pandas.core.frame.DataFrame'>\n",
      "Int64Index: 1429229 entries, 0 to 1429228\n",
      "Data columns (total 30 columns):\n",
      "Unnamed: 0                  1429229 non-null int64\n",
      "id                          1429229 non-null object\n",
      "vendor_id                   1429229 non-null int64\n",
      "pickup_datetime             1429229 non-null object\n",
      "dropoff_datetime            1429229 non-null object\n",
      "passenger_count             1429229 non-null int64\n",
      "pickup_longitude            1429229 non-null float64\n",
      "pickup_latitude             1429229 non-null float64\n",
      "dropoff_longitude           1429229 non-null float64\n",
      "dropoff_latitude            1429229 non-null float64\n",
      "store_and_fwd_flag          1429229 non-null object\n",
      "trip_duration               1429229 non-null int64\n",
      "pickup_date                 1429229 non-null object\n",
      "Month                       1429229 non-null int64\n",
      "DayofMonth                  1429229 non-null int64\n",
      "Hour                        1429229 non-null int64\n",
      "dayofweek                   1429229 non-null int64\n",
      "log_trip_duration           1429229 non-null float64\n",
      "pickup_cluster              1429229 non-null int64\n",
      "dropoff_cluster             1429229 non-null int64\n",
      "distance_haversine          1429229 non-null float64\n",
      "distance_dummy_manhattan    1429229 non-null float64\n",
      "direction                   1429229 non-null float64\n",
      "avg_speed_h                 1429229 non-null float64\n",
      "avg_speed_m                 1429229 non-null float64\n",
      "pickup_lat_bin              1429229 non-null float64\n",
      "pickup_long_bin             1429229 non-null float64\n",
      "total_distance              1429228 non-null float64\n",
      "total_travel_time           1429228 non-null float64\n",
      "number_of_steps             1429228 non-null float64\n",
      "dtypes: float64(15), int64(10), object(5)\n",
      "memory usage: 338.0+ MB\n"
     ]
    }
   ],
   "source": [
    "train.info()"
   ]
  },
  {
   "cell_type": "code",
   "execution_count": 35,
   "metadata": {},
   "outputs": [
    {
     "name": "stdout",
     "output_type": "stream",
     "text": [
      "<class 'pandas.core.frame.DataFrame'>\n",
      "Int64Index: 613563 entries, 0 to 613562\n",
      "Data columns (total 23 columns):\n",
      "Unnamed: 0                  613563 non-null int64\n",
      "id                          613563 non-null object\n",
      "vendor_id                   613563 non-null int64\n",
      "pickup_datetime             613563 non-null object\n",
      "passenger_count             613563 non-null int64\n",
      "pickup_longitude            613563 non-null float64\n",
      "pickup_latitude             613563 non-null float64\n",
      "dropoff_longitude           613563 non-null float64\n",
      "dropoff_latitude            613563 non-null float64\n",
      "store_and_fwd_flag          613563 non-null object\n",
      "pickup_date                 613563 non-null object\n",
      "Month                       613563 non-null int64\n",
      "DayofMonth                  613563 non-null int64\n",
      "Hour                        613563 non-null int64\n",
      "dayofweek                   613563 non-null int64\n",
      "pickup_cluster              613563 non-null int64\n",
      "dropoff_cluster             613563 non-null int64\n",
      "distance_haversine          613563 non-null float64\n",
      "distance_dummy_manhattan    613563 non-null float64\n",
      "direction                   613563 non-null float64\n",
      "total_distance              613563 non-null float64\n",
      "total_travel_time           613563 non-null float64\n",
      "number_of_steps             613563 non-null int64\n",
      "dtypes: float64(9), int64(10), object(4)\n",
      "memory usage: 112.3+ MB\n"
     ]
    }
   ],
   "source": [
    "test.info()"
   ]
  },
  {
   "cell_type": "code",
   "execution_count": 36,
   "metadata": {
    "collapsed": true
   },
   "outputs": [],
   "source": [
    "train.to_csv('C:/Users/WuJue/Desktop/nyc-taxi-trip/output/train_expanded.csv')\n",
    "test.to_csv('C:/Users/WuJue/Desktop/nyc-taxi-trip/output/test_expanded.csv')"
   ]
  },
  {
   "cell_type": "code",
   "execution_count": 37,
   "metadata": {},
   "outputs": [
    {
     "name": "stdout",
     "output_type": "stream",
     "text": [
      "<class 'pandas.core.frame.DataFrame'>\n",
      "Int64Index: 1429229 entries, 0 to 1429228\n",
      "Data columns (total 30 columns):\n",
      "Unnamed: 0                  1429229 non-null int64\n",
      "id                          1429229 non-null object\n",
      "vendor_id                   1429229 non-null int64\n",
      "pickup_datetime             1429229 non-null object\n",
      "dropoff_datetime            1429229 non-null object\n",
      "passenger_count             1429229 non-null int64\n",
      "pickup_longitude            1429229 non-null float64\n",
      "pickup_latitude             1429229 non-null float64\n",
      "dropoff_longitude           1429229 non-null float64\n",
      "dropoff_latitude            1429229 non-null float64\n",
      "store_and_fwd_flag          1429229 non-null object\n",
      "trip_duration               1429229 non-null int64\n",
      "pickup_date                 1429229 non-null object\n",
      "Month                       1429229 non-null int64\n",
      "DayofMonth                  1429229 non-null int64\n",
      "Hour                        1429229 non-null int64\n",
      "dayofweek                   1429229 non-null int64\n",
      "log_trip_duration           1429229 non-null float64\n",
      "pickup_cluster              1429229 non-null int64\n",
      "dropoff_cluster             1429229 non-null int64\n",
      "distance_haversine          1429229 non-null float64\n",
      "distance_dummy_manhattan    1429229 non-null float64\n",
      "direction                   1429229 non-null float64\n",
      "avg_speed_h                 1429229 non-null float64\n",
      "avg_speed_m                 1429229 non-null float64\n",
      "pickup_lat_bin              1429229 non-null float64\n",
      "pickup_long_bin             1429229 non-null float64\n",
      "total_distance              1429228 non-null float64\n",
      "total_travel_time           1429228 non-null float64\n",
      "number_of_steps             1429228 non-null float64\n",
      "dtypes: float64(15), int64(10), object(5)\n",
      "memory usage: 338.0+ MB\n"
     ]
    }
   ],
   "source": [
    "train.info()"
   ]
  },
  {
   "cell_type": "code",
   "execution_count": null,
   "metadata": {
    "collapsed": true
   },
   "outputs": [],
   "source": []
  }
 ],
 "metadata": {
  "kernelspec": {
   "display_name": "Python 3",
   "language": "python",
   "name": "python3"
  },
  "language_info": {
   "codemirror_mode": {
    "name": "ipython",
    "version": 3
   },
   "file_extension": ".py",
   "mimetype": "text/x-python",
   "name": "python",
   "nbconvert_exporter": "python",
   "pygments_lexer": "ipython3",
   "version": "3.6.3"
  }
 },
 "nbformat": 4,
 "nbformat_minor": 2
}
